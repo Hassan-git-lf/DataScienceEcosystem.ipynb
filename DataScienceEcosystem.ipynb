{
  "metadata": {
    "kernelspec": {
      "name": "python",
      "display_name": "Python (Pyodide)",
      "language": "python"
    },
    "language_info": {
      "codemirror_mode": {
        "name": "python",
        "version": 3
      },
      "file_extension": ".py",
      "mimetype": "text/x-python",
      "name": "python",
      "nbconvert_exporter": "python",
      "pygments_lexer": "ipython3",
      "version": "3.8"
    }
  },
  "nbformat_minor": 5,
  "nbformat": 4,
  "cells": [
    {
      "id": "28dc61ce-ed4f-4b01-8dd9-110e869c4fdb",
      "cell_type": "markdown",
      "source": "Outils et écosystème de la science des données\n",
      "metadata": {}
    },
    {
      "id": "71f05cc8-4ca1-44e2-ae43-112d182018a9",
      "cell_type": "markdown",
      "source": "Dans ce notebook, les outils et lécosystème de la science des données sont résumés.",
      "metadata": {}
    },
    {
      "id": "beb4f8d1-da91-4416-b78b-7aace77b5f04",
      "cell_type": "markdown",
      "source": "Certains des langages populaires que les scientifiques des données utilisent sont :\n\npython, SQL , C++, NoSQL",
      "metadata": {}
    },
    {
      "id": "ff141307-c8c5-49a6-ad1a-b43f0c945c84",
      "cell_type": "markdown",
      "source": "Certaines des bibliothèques couramment utilisées par les scientifiques des données incluent :\n\npandas,numpy,matplolib,NLP,Dask,polars,seabon",
      "metadata": {}
    },
    {
      "id": "2b6e4175-f84b-4ad0-a057-25157367574d",
      "cell_type": "markdown",
      "source": "# Outils de la Science des Données\n\n| **Catégorie**                 | **Outil**                    | **Description**                                                   |\n|-------------------------------|------------------------------|-------------------------------------------------------------------|\n| **Manipulation des données**  | Pandas, NumPy, Dask          | Manipulation des tableaux, nettoyage, traitement des données.    |\n| **Visualisation**             | Matplotlib, Seaborn, Plotly  | Création de graphiques et visualisations interactives.           |\n| **Apprentissage automatique** | Scikit-learn, XGBoost        | Algorithmes pour lanalyse et la modélisation des données.       |\n| **Deep Learning**             | TensorFlow, PyTorch          | Réseaux de neurones et apprentissage profond.                    |\n| **Analyse statistique**       | SciPy, Statsmodels           | Tests statistiques, analyse avancée.                             |\n| **Séries temporelles**        | Prophet, statsmodels.tsa     | Modélisation et analyse des séries temporelles.                  |\n| **Traitement NLP**            | NLTK, SpaCy, Hugging Face    | Traitement du langage naturel (NLP).                             |\n| **Traitement dimages**       | OpenCV, Pillow, Scikit-image | Analyse et manipulation des images.                              |\n| **Grandes données**           | PySpark, Vaex               | Traitement de grands ensembles de données distribuées.           |\n| **Visualisation avancée**     | Dash, Streamlit             | Création d'applications interactives et tableaux de bord.        |\n",
      "metadata": {}
    },
    {
      "id": "40f039b3-9afa-43bd-826b-4a6b00712197",
      "cell_type": "markdown",
      "source": "# Expressions Arithmétiques\n\n### Exemples de calculs simples\n\nVoici quelques exemples d’expressions arithmétiques courantes :\n\n1. **Addition** : `5 + 3 = 8`  \n2. **Soustraction** : `10 - 4 = 6`  \n3. **Multiplication** : `7 * 2 = 14`  \n4. **Division** : `20 / 5 = 4`  \n5. **Puissance** : `3 ** 2 = 9` (3 au carré)\n\nVous pouvez essayer ces expressions directement dans une cellule de code Python :\n```python\n# Exemple de calculs\na = 5 + 3\nb = 10 - 4\nc = 7 * 2\nd = 20 / 5\ne = 3 ** 2\nprint(a, b, c, d, e)\n",
      "metadata": {}
    },
    {
      "id": "4cc65ceb-7928-4dc6-9bef-4cf1d8c42ef1",
      "cell_type": "code",
      "source": "# Ceci est une simple expression arithmétique pour multiplier puis additionner des entiers. \n\n(3*4)+5\n\n",
      "metadata": {
        "trusted": true
      },
      "outputs": [
        {
          "execution_count": 22,
          "output_type": "execute_result",
          "data": {
            "text/plain": "17"
          },
          "metadata": {}
        }
      ],
      "execution_count": 22
    },
    {
      "id": "4eb4b3d5-f658-4ab1-b848-8ca1def5a13c",
      "cell_type": "markdown",
      "source": "# Cela convertira 200 minutes en heures en divisant par 60",
      "metadata": {}
    },
    {
      "id": "2c4b5cc3-bdd7-4047-bb65-e24cbd8de4dd",
      "cell_type": "code",
      "source": "minutes = 200\nheures = minutes / 60\nprint(f\"200 minutes = {200 / 60:.2f} heures\")",
      "metadata": {
        "trusted": true
      },
      "outputs": [
        {
          "name": "stdout",
          "output_type": "stream",
          "text": "200 minutes = 3.33 heures\n"
        }
      ],
      "execution_count": 24
    },
    {
      "id": "9a56732d-8b44-4a28-a135-2c2c694e3686",
      "cell_type": "markdown",
      "source": "**Objectifs:** \n\n- Découvrir les outils et bibliothèques couramment utilisés pour la science des données.\n- Lister les langages populaires pour la science des données.\n- Comprendre les bases de GitHub et son rôle dans le travail collaboratif.\n- Apprendre à convertir des minutes en heures avec des expressions simples.\n- Créer des visualisations de données de base pour lanalyse exploratoire.\n",
      "metadata": {}
    },
    {
      "id": "362df1f9-07e9-4cb7-a0bd-8b8afd1ccd21",
      "cell_type": "markdown",
      "source": "## Auteur\n\n\n Hassan",
      "metadata": {}
    },
    {
      "id": "cc99e1d5-5471-4817-b29a-3c711e1a20da",
      "cell_type": "markdown",
      "source": "git remote add origin https://github.com/Hassan-git-lf/DataScienceEcosystem.ipynb.git",
      "metadata": {}
    },
    {
      "id": "a8b3c324-4be8-46fc-81aa-f3855e0ee014",
      "cell_type": "markdown",
      "source": "git branch -M main",
      "metadata": {}
    },
    {
      "id": "827d4dbf-a97e-4a66-b629-586b46fc9c7a",
      "cell_type": "markdown",
      "source": "git push -u origin main",
      "metadata": {}
    },
    {
      "id": "f5bf1b0d-7eec-4ada-838a-0e50d134ab6e",
      "cell_type": "code",
      "source": "",
      "metadata": {
        "trusted": true
      },
      "outputs": [],
      "execution_count": null
    }
  ]
}